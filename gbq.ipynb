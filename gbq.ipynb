{
 "metadata": {
  "language_info": {
   "codemirror_mode": {
    "name": "ipython",
    "version": 3
   },
   "file_extension": ".py",
   "mimetype": "text/x-python",
   "name": "python",
   "nbconvert_exporter": "python",
   "pygments_lexer": "ipython3",
   "version": 3
  },
  "orig_nbformat": 2,
  "kernelspec": {
   "name": "python_defaultSpec_1596885919682",
   "display_name": "Python 3.7.8 64-bit"
  }
 },
 "nbformat": 4,
 "nbformat_minor": 2,
 "cells": [
  {
   "cell_type": "code",
   "execution_count": 20,
   "metadata": {
    "tags": []
   },
   "outputs": [],
   "source": [
    "import pandas_gbq\n",
    "\n",
    "# TODO: Set project_id to your Google Cloud Platform project ID.\n",
    "project_id = \"still-crow-285606\"\n",
    "\n",
    "sql = \"\"\"\n",
    "SELECT *\n",
    "FROM `gdelt-bq.gdeltv2.events`\n",
    "WHERE EventBaseCode = '175' AND ActionGeo_ADM1Code = 'FR00' AND Year = 2019\n",
    "\"\"\"\n",
    "df = pandas_gbq.read_gbq(sql, project_id=project_id)"
   ]
  },
  {
   "cell_type": "code",
   "execution_count": 40,
   "metadata": {},
   "outputs": [
    {
     "output_type": "execute_result",
     "data": {
      "text/plain": "      GLOBALEVENTID   SQLDATE  MonthYear  Year  FractionDate Actor1Code  \\\n0         858781056  20190712     201907  2019     2019.5260        COP   \n1         858919338  20190713     201907  2019     2019.5288        OPP   \n2         858794673  20190712     201907  2019     2019.5260        FRA   \n3         858850306  20190712     201907  2019     2019.5260        CVL   \n4         858916531  20190713     201907  2019     2019.5288        FRA   \n...             ...       ...        ...   ...           ...        ...   \n1628      842344161  20190502     201905  2019     2019.3342        OPP   \n1629      842344855  20190502     201905  2019     2019.3342        COP   \n1630      842639580  20190503     201905  2019     2019.3370        FRA   \n1631      842648226  20190503     201905  2019     2019.3370        OPP   \n1632      842203723  20190501     201905  2019     2019.3315        COP   \n\n     Actor1Name Actor1CountryCode Actor1KnownGroupCode Actor1EthnicCode  ...  \\\n0        POLICE              None                 None             None  ...   \n1     PROTESTER              None                 None             None  ...   \n2         PARIS               FRA                 None             None  ...   \n3       MIGRANT              None                 None             None  ...   \n4         PARIS               FRA                 None             None  ...   \n...         ...               ...                  ...              ...  ...   \n1628  PROTESTER              None                 None             None  ...   \n1629     POLICE              None                 None             None  ...   \n1630     FRANCE               FRA                 None             None  ...   \n1631  PROTESTER              None                 None             None  ...   \n1632     POLICE              None                 None             None  ...   \n\n                   ActionGeo_FullName ActionGeo_CountryCode  \\\n0     Paris, France (general), France                    FR   \n1     Paris, France (general), France                    FR   \n2     Paris, France (general), France                    FR   \n3     Paris, France (general), France                    FR   \n4     Paris, France (general), France                    FR   \n...                               ...                   ...   \n1628  Paris, France (general), France                    FR   \n1629  Paris, France (general), France                    FR   \n1630  Paris, France (general), France                    FR   \n1631  Paris, France (general), France                    FR   \n1632  Paris, France (general), France                    FR   \n\n     ActionGeo_ADM1Code ActionGeo_ADM2Code ActionGeo_Lat ActionGeo_Long  \\\n0                  FR00              16282       48.8667        2.33333   \n1                  FR00              16282       48.8667        2.33333   \n2                  FR00              16282       48.8667        2.33333   \n3                  FR00              16282       48.8667        2.33333   \n4                  FR00              16282       48.8667        2.33333   \n...                 ...                ...           ...            ...   \n1628               FR00              16282       48.8667        2.33333   \n1629               FR00              16282       48.8667        2.33333   \n1630               FR00              16282       48.8667        2.33333   \n1631               FR00              16282       48.8667        2.33333   \n1632               FR00              16282       48.8667        2.33333   \n\n     ActionGeo_FeatureID       DATEADDED  \\\n0               -1456928  20190712160000   \n1               -1456928  20190713080000   \n2               -1456928  20190712173000   \n3               -1456928  20190712233000   \n4               -1456928  20190713080000   \n...                  ...             ...   \n1628            -1456928  20190502030000   \n1629            -1456928  20190502024500   \n1630            -1456928  20190503061500   \n1631            -1456928  20190503073000   \n1632            -1456928  20190501151500   \n\n                                              SOURCEURL  \\\n0     https://www.ilprimatonazionale.it/esteri/franc...   \n1     https://www.index.hr/vijesti/clanak/veliki-pro...   \n2     http://en.rfi.fr/africa/20190712-undocumented-...   \n3               https://ria.ru/20190713/1556481692.html   \n4     https://www.asianage.com/world/europe/130719/n...   \n...                                                 ...   \n1628  https://www.thesun.co.uk/news/8985010/princess...   \n1629  https://www.20minutes.fr/societe/2508775-20190...   \n1630  https://cincodias.elpais.com/cincodias/2019/05...   \n1631  https://www.eureporter.co/frontpage/2019/05/03...   \n1632  https://www.thelocal.es/20190501/hundreds-of-v...   \n\n                         DOMAIN  \n0     www.ilprimatonazionale.it  \n1                  www.index.hr  \n2                     en.rfi.fr  \n3                        ria.ru  \n4              www.asianage.com  \n...                         ...  \n1628           www.thesun.co.uk  \n1629           www.20minutes.fr  \n1630       cincodias.elpais.com  \n1631          www.eureporter.co  \n1632            www.thelocal.es  \n\n[1633 rows x 62 columns]",
      "text/html": "<div>\n<style scoped>\n    .dataframe tbody tr th:only-of-type {\n        vertical-align: middle;\n    }\n\n    .dataframe tbody tr th {\n        vertical-align: top;\n    }\n\n    .dataframe thead th {\n        text-align: right;\n    }\n</style>\n<table border=\"1\" class=\"dataframe\">\n  <thead>\n    <tr style=\"text-align: right;\">\n      <th></th>\n      <th>GLOBALEVENTID</th>\n      <th>SQLDATE</th>\n      <th>MonthYear</th>\n      <th>Year</th>\n      <th>FractionDate</th>\n      <th>Actor1Code</th>\n      <th>Actor1Name</th>\n      <th>Actor1CountryCode</th>\n      <th>Actor1KnownGroupCode</th>\n      <th>Actor1EthnicCode</th>\n      <th>...</th>\n      <th>ActionGeo_FullName</th>\n      <th>ActionGeo_CountryCode</th>\n      <th>ActionGeo_ADM1Code</th>\n      <th>ActionGeo_ADM2Code</th>\n      <th>ActionGeo_Lat</th>\n      <th>ActionGeo_Long</th>\n      <th>ActionGeo_FeatureID</th>\n      <th>DATEADDED</th>\n      <th>SOURCEURL</th>\n      <th>DOMAIN</th>\n    </tr>\n  </thead>\n  <tbody>\n    <tr>\n      <th>0</th>\n      <td>858781056</td>\n      <td>20190712</td>\n      <td>201907</td>\n      <td>2019</td>\n      <td>2019.5260</td>\n      <td>COP</td>\n      <td>POLICE</td>\n      <td>None</td>\n      <td>None</td>\n      <td>None</td>\n      <td>...</td>\n      <td>Paris, France (general), France</td>\n      <td>FR</td>\n      <td>FR00</td>\n      <td>16282</td>\n      <td>48.8667</td>\n      <td>2.33333</td>\n      <td>-1456928</td>\n      <td>20190712160000</td>\n      <td>https://www.ilprimatonazionale.it/esteri/franc...</td>\n      <td>www.ilprimatonazionale.it</td>\n    </tr>\n    <tr>\n      <th>1</th>\n      <td>858919338</td>\n      <td>20190713</td>\n      <td>201907</td>\n      <td>2019</td>\n      <td>2019.5288</td>\n      <td>OPP</td>\n      <td>PROTESTER</td>\n      <td>None</td>\n      <td>None</td>\n      <td>None</td>\n      <td>...</td>\n      <td>Paris, France (general), France</td>\n      <td>FR</td>\n      <td>FR00</td>\n      <td>16282</td>\n      <td>48.8667</td>\n      <td>2.33333</td>\n      <td>-1456928</td>\n      <td>20190713080000</td>\n      <td>https://www.index.hr/vijesti/clanak/veliki-pro...</td>\n      <td>www.index.hr</td>\n    </tr>\n    <tr>\n      <th>2</th>\n      <td>858794673</td>\n      <td>20190712</td>\n      <td>201907</td>\n      <td>2019</td>\n      <td>2019.5260</td>\n      <td>FRA</td>\n      <td>PARIS</td>\n      <td>FRA</td>\n      <td>None</td>\n      <td>None</td>\n      <td>...</td>\n      <td>Paris, France (general), France</td>\n      <td>FR</td>\n      <td>FR00</td>\n      <td>16282</td>\n      <td>48.8667</td>\n      <td>2.33333</td>\n      <td>-1456928</td>\n      <td>20190712173000</td>\n      <td>http://en.rfi.fr/africa/20190712-undocumented-...</td>\n      <td>en.rfi.fr</td>\n    </tr>\n    <tr>\n      <th>3</th>\n      <td>858850306</td>\n      <td>20190712</td>\n      <td>201907</td>\n      <td>2019</td>\n      <td>2019.5260</td>\n      <td>CVL</td>\n      <td>MIGRANT</td>\n      <td>None</td>\n      <td>None</td>\n      <td>None</td>\n      <td>...</td>\n      <td>Paris, France (general), France</td>\n      <td>FR</td>\n      <td>FR00</td>\n      <td>16282</td>\n      <td>48.8667</td>\n      <td>2.33333</td>\n      <td>-1456928</td>\n      <td>20190712233000</td>\n      <td>https://ria.ru/20190713/1556481692.html</td>\n      <td>ria.ru</td>\n    </tr>\n    <tr>\n      <th>4</th>\n      <td>858916531</td>\n      <td>20190713</td>\n      <td>201907</td>\n      <td>2019</td>\n      <td>2019.5288</td>\n      <td>FRA</td>\n      <td>PARIS</td>\n      <td>FRA</td>\n      <td>None</td>\n      <td>None</td>\n      <td>...</td>\n      <td>Paris, France (general), France</td>\n      <td>FR</td>\n      <td>FR00</td>\n      <td>16282</td>\n      <td>48.8667</td>\n      <td>2.33333</td>\n      <td>-1456928</td>\n      <td>20190713080000</td>\n      <td>https://www.asianage.com/world/europe/130719/n...</td>\n      <td>www.asianage.com</td>\n    </tr>\n    <tr>\n      <th>...</th>\n      <td>...</td>\n      <td>...</td>\n      <td>...</td>\n      <td>...</td>\n      <td>...</td>\n      <td>...</td>\n      <td>...</td>\n      <td>...</td>\n      <td>...</td>\n      <td>...</td>\n      <td>...</td>\n      <td>...</td>\n      <td>...</td>\n      <td>...</td>\n      <td>...</td>\n      <td>...</td>\n      <td>...</td>\n      <td>...</td>\n      <td>...</td>\n      <td>...</td>\n      <td>...</td>\n    </tr>\n    <tr>\n      <th>1628</th>\n      <td>842344161</td>\n      <td>20190502</td>\n      <td>201905</td>\n      <td>2019</td>\n      <td>2019.3342</td>\n      <td>OPP</td>\n      <td>PROTESTER</td>\n      <td>None</td>\n      <td>None</td>\n      <td>None</td>\n      <td>...</td>\n      <td>Paris, France (general), France</td>\n      <td>FR</td>\n      <td>FR00</td>\n      <td>16282</td>\n      <td>48.8667</td>\n      <td>2.33333</td>\n      <td>-1456928</td>\n      <td>20190502030000</td>\n      <td>https://www.thesun.co.uk/news/8985010/princess...</td>\n      <td>www.thesun.co.uk</td>\n    </tr>\n    <tr>\n      <th>1629</th>\n      <td>842344855</td>\n      <td>20190502</td>\n      <td>201905</td>\n      <td>2019</td>\n      <td>2019.3342</td>\n      <td>COP</td>\n      <td>POLICE</td>\n      <td>None</td>\n      <td>None</td>\n      <td>None</td>\n      <td>...</td>\n      <td>Paris, France (general), France</td>\n      <td>FR</td>\n      <td>FR00</td>\n      <td>16282</td>\n      <td>48.8667</td>\n      <td>2.33333</td>\n      <td>-1456928</td>\n      <td>20190502024500</td>\n      <td>https://www.20minutes.fr/societe/2508775-20190...</td>\n      <td>www.20minutes.fr</td>\n    </tr>\n    <tr>\n      <th>1630</th>\n      <td>842639580</td>\n      <td>20190503</td>\n      <td>201905</td>\n      <td>2019</td>\n      <td>2019.3370</td>\n      <td>FRA</td>\n      <td>FRANCE</td>\n      <td>FRA</td>\n      <td>None</td>\n      <td>None</td>\n      <td>...</td>\n      <td>Paris, France (general), France</td>\n      <td>FR</td>\n      <td>FR00</td>\n      <td>16282</td>\n      <td>48.8667</td>\n      <td>2.33333</td>\n      <td>-1456928</td>\n      <td>20190503061500</td>\n      <td>https://cincodias.elpais.com/cincodias/2019/05...</td>\n      <td>cincodias.elpais.com</td>\n    </tr>\n    <tr>\n      <th>1631</th>\n      <td>842648226</td>\n      <td>20190503</td>\n      <td>201905</td>\n      <td>2019</td>\n      <td>2019.3370</td>\n      <td>OPP</td>\n      <td>PROTESTER</td>\n      <td>None</td>\n      <td>None</td>\n      <td>None</td>\n      <td>...</td>\n      <td>Paris, France (general), France</td>\n      <td>FR</td>\n      <td>FR00</td>\n      <td>16282</td>\n      <td>48.8667</td>\n      <td>2.33333</td>\n      <td>-1456928</td>\n      <td>20190503073000</td>\n      <td>https://www.eureporter.co/frontpage/2019/05/03...</td>\n      <td>www.eureporter.co</td>\n    </tr>\n    <tr>\n      <th>1632</th>\n      <td>842203723</td>\n      <td>20190501</td>\n      <td>201905</td>\n      <td>2019</td>\n      <td>2019.3315</td>\n      <td>COP</td>\n      <td>POLICE</td>\n      <td>None</td>\n      <td>None</td>\n      <td>None</td>\n      <td>...</td>\n      <td>Paris, France (general), France</td>\n      <td>FR</td>\n      <td>FR00</td>\n      <td>16282</td>\n      <td>48.8667</td>\n      <td>2.33333</td>\n      <td>-1456928</td>\n      <td>20190501151500</td>\n      <td>https://www.thelocal.es/20190501/hundreds-of-v...</td>\n      <td>www.thelocal.es</td>\n    </tr>\n  </tbody>\n</table>\n<p>1633 rows × 62 columns</p>\n</div>"
     },
     "metadata": {},
     "execution_count": 40
    }
   ],
   "source": [
    "import re\n",
    "def extract_domain(row):\n",
    "    value = re.sub('https?://', '', row['SOURCEURL'])\n",
    "    return re.sub(r'/.*', '', value)\n",
    "    \n",
    "\n",
    "df['DOMAIN'] = df.apply(extract_domain, axis=1)\n",
    "df\n",
    "\n"
   ]
  },
  {
   "cell_type": "code",
   "execution_count": 41,
   "metadata": {},
   "outputs": [
    {
     "output_type": "execute_result",
     "data": {
      "text/plain": "                         DOMAIN    AvgTone\n0     www.ilprimatonazionale.it  -4.878049\n1                  www.index.hr  -7.984791\n2                     en.rfi.fr  -6.934307\n3                        ria.ru  -4.065041\n4              www.asianage.com -12.096774\n...                         ...        ...\n1628           www.thesun.co.uk  -9.604191\n1629           www.20minutes.fr  -4.993910\n1630       cincodias.elpais.com  -1.560468\n1631          www.eureporter.co  -8.214286\n1632            www.thelocal.es  -1.606426\n\n[1633 rows x 2 columns]",
      "text/html": "<div>\n<style scoped>\n    .dataframe tbody tr th:only-of-type {\n        vertical-align: middle;\n    }\n\n    .dataframe tbody tr th {\n        vertical-align: top;\n    }\n\n    .dataframe thead th {\n        text-align: right;\n    }\n</style>\n<table border=\"1\" class=\"dataframe\">\n  <thead>\n    <tr style=\"text-align: right;\">\n      <th></th>\n      <th>DOMAIN</th>\n      <th>AvgTone</th>\n    </tr>\n  </thead>\n  <tbody>\n    <tr>\n      <th>0</th>\n      <td>www.ilprimatonazionale.it</td>\n      <td>-4.878049</td>\n    </tr>\n    <tr>\n      <th>1</th>\n      <td>www.index.hr</td>\n      <td>-7.984791</td>\n    </tr>\n    <tr>\n      <th>2</th>\n      <td>en.rfi.fr</td>\n      <td>-6.934307</td>\n    </tr>\n    <tr>\n      <th>3</th>\n      <td>ria.ru</td>\n      <td>-4.065041</td>\n    </tr>\n    <tr>\n      <th>4</th>\n      <td>www.asianage.com</td>\n      <td>-12.096774</td>\n    </tr>\n    <tr>\n      <th>...</th>\n      <td>...</td>\n      <td>...</td>\n    </tr>\n    <tr>\n      <th>1628</th>\n      <td>www.thesun.co.uk</td>\n      <td>-9.604191</td>\n    </tr>\n    <tr>\n      <th>1629</th>\n      <td>www.20minutes.fr</td>\n      <td>-4.993910</td>\n    </tr>\n    <tr>\n      <th>1630</th>\n      <td>cincodias.elpais.com</td>\n      <td>-1.560468</td>\n    </tr>\n    <tr>\n      <th>1631</th>\n      <td>www.eureporter.co</td>\n      <td>-8.214286</td>\n    </tr>\n    <tr>\n      <th>1632</th>\n      <td>www.thelocal.es</td>\n      <td>-1.606426</td>\n    </tr>\n  </tbody>\n</table>\n<p>1633 rows × 2 columns</p>\n</div>"
     },
     "metadata": {},
     "execution_count": 41
    }
   ],
   "source": [
    "\n",
    "domain_and_tone = df.loc[:, ['DOMAIN', 'AvgTone']]\n",
    "domain_and_tone\n"
   ]
  },
  {
   "cell_type": "code",
   "execution_count": 43,
   "metadata": {},
   "outputs": [],
   "source": [
    "domain_and_tone = domain_and_tone.groupby('DOMAIN').mean().sort_values('AvgTone')\n",
    "# tones = df.groupby('DOMAIN').mean().sort_values('AvgTone')['AvgTone']\n",
    "\n",
    "\n",
    "# import matplotlib.pyplot as plt\n",
    "# plt.close('all')\n",
    "\n",
    "# tones.plot.barh()\n",
    "domain_and_tone.to_csv(\"/tmp/1.csv\")"
   ]
  },
  {
   "cell_type": "code",
   "execution_count": null,
   "metadata": {},
   "outputs": [],
   "source": []
  }
 ]
}